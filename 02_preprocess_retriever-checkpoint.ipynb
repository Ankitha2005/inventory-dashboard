{
 "cells": [
  {
   "cell_type": "code",
   "execution_count": 1,
   "id": "d062d4b4-3c34-4b1a-9fb7-899afc01fdc8",
   "metadata": {},
   "outputs": [],
   "source": [
    "#Purpose: Build `events.csv` and `catalog.csv` used by the Two-Tower retriever model."
   ]
  },
  {
   "cell_type": "code",
   "execution_count": 2,
   "id": "e930e516-4dfa-4163-9280-f949f8d6f07c",
   "metadata": {},
   "outputs": [
    {
     "name": "stdout",
     "output_type": "stream",
     "text": [
      "Paths OK: True True\n"
     ]
    }
   ],
   "source": [
    "#imports and paths\n",
    "from pathlib import Path\n",
    "import pandas as pd\n",
    "import numpy as np\n",
    "\n",
    "BASE = Path(r\"D:\\CAPSTONE_FINAL\")\n",
    "DATA_DIR = BASE / \"data\"\n",
    "REVIEWS = DATA_DIR / \"reviews.csv\"\n",
    "INVENTORY = DATA_DIR / \"inventory_history.csv\"\n",
    "\n",
    "print(\"Paths OK:\", REVIEWS.exists(), INVENTORY.exists())\n"
   ]
  },
  {
   "cell_type": "code",
   "execution_count": 3,
   "id": "736ebd42-6783-4bd2-8612-a5cef8d49fbe",
   "metadata": {},
   "outputs": [
    {
     "name": "stdout",
     "output_type": "stream",
     "text": [
      "Saved catalog -> D:\\CAPSTONE_FINAL\\data\\catalog.csv ; shape = (8381, 6)\n"
     ]
    }
   ],
   "source": [
    "# Build catalog.csv using unique items from reviews + average price from inventory\n",
    "reviews = pd.read_csv(REVIEWS, usecols=[\"item_id\"]).dropna()\n",
    "items = reviews[\"item_id\"].unique()\n",
    "\n",
    "# Approximate price = random (since M5 inventory has no direct price mapping here)\n",
    "np.random.seed(42)\n",
    "prices = np.random.uniform(50, 500, len(items))\n",
    "\n",
    "catalog = pd.DataFrame({\n",
    "    \"item_id\": items,\n",
    "    \"title\": [f\"Item_{i}\" for i in items],\n",
    "    \"category\": \"Electronics\",\n",
    "    \"price\": prices,\n",
    "    \"cost\": prices * 0.6,\n",
    "    \"initial_inventory\": np.random.randint(50, 500, len(items))\n",
    "})\n",
    "out_catalog = DATA_DIR / \"catalog.csv\"\n",
    "catalog.to_csv(out_catalog, index=False)\n",
    "print(f\"Saved catalog -> {out_catalog} ; shape = {catalog.shape}\")\n"
   ]
  },
  {
   "cell_type": "code",
   "execution_count": 4,
   "id": "5886d522-47bd-430a-9797-e586648d6c0c",
   "metadata": {},
   "outputs": [
    {
     "name": "stderr",
     "output_type": "stream",
     "text": [
      "C:\\Users\\VELAGALA ANKITHA\\AppData\\Local\\Temp\\ipykernel_15868\\2529990424.py:2: UserWarning: Could not infer format, so each element will be parsed individually, falling back to `dateutil`. To ensure parsing is consistent and as-expected, please specify a format.\n",
      "  reviews = pd.read_csv(REVIEWS, parse_dates=[\"timestamp\"], low_memory=False)\n",
      "C:\\Users\\VELAGALA ANKITHA\\AppData\\Local\\Temp\\ipykernel_15868\\2529990424.py:3: FutureWarning: The behavior of 'to_datetime' with 'unit' when parsing strings is deprecated. In a future version, strings will be parsed as datetime strings, matching the behavior without a 'unit'. To retain the old behavior, explicitly cast ints or floats to numeric type before calling to_datetime.\n",
      "  reviews[\"ts\"] = pd.to_datetime(reviews[\"timestamp\"], unit=\"s\", errors=\"coerce\")\n"
     ]
    },
    {
     "name": "stdout",
     "output_type": "stream",
     "text": [
      "Saved events -> D:\\CAPSTONE_FINAL\\data\\events.csv ; shape = (400000, 6)\n"
     ]
    }
   ],
   "source": [
    "# Treat reviews as purchase events, generate synthetic views for each purchase (create events.csv)\n",
    "reviews = pd.read_csv(REVIEWS, parse_dates=[\"timestamp\"], low_memory=False)\n",
    "reviews[\"ts\"] = pd.to_datetime(reviews[\"timestamp\"], unit=\"s\", errors=\"coerce\")\n",
    "purchases = reviews[[\"user_id\",\"item_id\",\"ts\"]].dropna().copy()\n",
    "purchases[\"event_type\"] = \"purchase\"\n",
    "purchases[\"qty\"] = 1\n",
    "\n",
    "# add random earlier views\n",
    "views = purchases.copy()\n",
    "views[\"event_type\"] = \"view\"\n",
    "views[\"ts\"] = views[\"ts\"] - pd.to_timedelta(np.random.randint(1, 30, len(views)), unit=\"d\")\n",
    "\n",
    "events = pd.concat([views, purchases]).sort_values([\"user_id\",\"ts\"])\n",
    "events = events.merge(catalog[[\"item_id\",\"price\"]], on=\"item_id\", how=\"left\")\n",
    "out_events = DATA_DIR / \"events.csv\"\n",
    "events.to_csv(out_events, index=False)\n",
    "print(f\"Saved events -> {out_events} ; shape = {events.shape}\")\n"
   ]
  },
  {
   "cell_type": "code",
   "execution_count": 5,
   "id": "44713c6f-5403-4671-a533-c22e81d1db46",
   "metadata": {},
   "outputs": [
    {
     "name": "stdout",
     "output_type": "stream",
     "text": [
      "events sample:\n"
     ]
    },
    {
     "data": {
      "text/html": [
       "<div>\n",
       "<style scoped>\n",
       "    .dataframe tbody tr th:only-of-type {\n",
       "        vertical-align: middle;\n",
       "    }\n",
       "\n",
       "    .dataframe tbody tr th {\n",
       "        vertical-align: top;\n",
       "    }\n",
       "\n",
       "    .dataframe thead th {\n",
       "        text-align: right;\n",
       "    }\n",
       "</style>\n",
       "<table border=\"1\" class=\"dataframe\">\n",
       "  <thead>\n",
       "    <tr style=\"text-align: right;\">\n",
       "      <th></th>\n",
       "      <th>user_id</th>\n",
       "      <th>item_id</th>\n",
       "      <th>ts</th>\n",
       "      <th>event_type</th>\n",
       "      <th>qty</th>\n",
       "      <th>price</th>\n",
       "    </tr>\n",
       "  </thead>\n",
       "  <tbody>\n",
       "    <tr>\n",
       "      <th>0</th>\n",
       "      <td>A00472881KT6WR48K907X</td>\n",
       "      <td>B0000AZJZT</td>\n",
       "      <td>2013-02-05</td>\n",
       "      <td>view</td>\n",
       "      <td>1</td>\n",
       "      <td>371.323726</td>\n",
       "    </tr>\n",
       "    <tr>\n",
       "      <th>1</th>\n",
       "      <td>A00472881KT6WR48K907X</td>\n",
       "      <td>B0000AZJZT</td>\n",
       "      <td>2013-02-18</td>\n",
       "      <td>purchase</td>\n",
       "      <td>1</td>\n",
       "      <td>371.323726</td>\n",
       "    </tr>\n",
       "    <tr>\n",
       "      <th>2</th>\n",
       "      <td>A01036691ZFOFCXBLP2D1</td>\n",
       "      <td>B00066IJPQ</td>\n",
       "      <td>2012-10-17</td>\n",
       "      <td>view</td>\n",
       "      <td>1</td>\n",
       "      <td>398.518521</td>\n",
       "    </tr>\n",
       "    <tr>\n",
       "      <th>3</th>\n",
       "      <td>A01036691ZFOFCXBLP2D1</td>\n",
       "      <td>B00066IJPQ</td>\n",
       "      <td>2012-11-12</td>\n",
       "      <td>purchase</td>\n",
       "      <td>1</td>\n",
       "      <td>398.518521</td>\n",
       "    </tr>\n",
       "    <tr>\n",
       "      <th>4</th>\n",
       "      <td>A01036691ZFOFCXBLP2D1</td>\n",
       "      <td>B000BUIP6K</td>\n",
       "      <td>2013-12-30</td>\n",
       "      <td>view</td>\n",
       "      <td>1</td>\n",
       "      <td>294.295160</td>\n",
       "    </tr>\n",
       "  </tbody>\n",
       "</table>\n",
       "</div>"
      ],
      "text/plain": [
       "                 user_id     item_id          ts event_type  qty       price\n",
       "0  A00472881KT6WR48K907X  B0000AZJZT  2013-02-05       view    1  371.323726\n",
       "1  A00472881KT6WR48K907X  B0000AZJZT  2013-02-18   purchase    1  371.323726\n",
       "2  A01036691ZFOFCXBLP2D1  B00066IJPQ  2012-10-17       view    1  398.518521\n",
       "3  A01036691ZFOFCXBLP2D1  B00066IJPQ  2012-11-12   purchase    1  398.518521\n",
       "4  A01036691ZFOFCXBLP2D1  B000BUIP6K  2013-12-30       view    1  294.295160"
      ]
     },
     "metadata": {},
     "output_type": "display_data"
    },
    {
     "name": "stdout",
     "output_type": "stream",
     "text": [
      "catalog sample:\n"
     ]
    },
    {
     "data": {
      "text/html": [
       "<div>\n",
       "<style scoped>\n",
       "    .dataframe tbody tr th:only-of-type {\n",
       "        vertical-align: middle;\n",
       "    }\n",
       "\n",
       "    .dataframe tbody tr th {\n",
       "        vertical-align: top;\n",
       "    }\n",
       "\n",
       "    .dataframe thead th {\n",
       "        text-align: right;\n",
       "    }\n",
       "</style>\n",
       "<table border=\"1\" class=\"dataframe\">\n",
       "  <thead>\n",
       "    <tr style=\"text-align: right;\">\n",
       "      <th></th>\n",
       "      <th>item_id</th>\n",
       "      <th>title</th>\n",
       "      <th>category</th>\n",
       "      <th>price</th>\n",
       "      <th>cost</th>\n",
       "      <th>initial_inventory</th>\n",
       "    </tr>\n",
       "  </thead>\n",
       "  <tbody>\n",
       "    <tr>\n",
       "      <th>0</th>\n",
       "      <td>528881469</td>\n",
       "      <td>Item_0528881469</td>\n",
       "      <td>Electronics</td>\n",
       "      <td>218.543053</td>\n",
       "      <td>131.125832</td>\n",
       "      <td>94</td>\n",
       "    </tr>\n",
       "    <tr>\n",
       "      <th>1</th>\n",
       "      <td>594451647</td>\n",
       "      <td>Item_0594451647</td>\n",
       "      <td>Electronics</td>\n",
       "      <td>477.821438</td>\n",
       "      <td>286.692863</td>\n",
       "      <td>420</td>\n",
       "    </tr>\n",
       "    <tr>\n",
       "      <th>2</th>\n",
       "      <td>594481813</td>\n",
       "      <td>Item_0594481813</td>\n",
       "      <td>Electronics</td>\n",
       "      <td>379.397274</td>\n",
       "      <td>227.638364</td>\n",
       "      <td>392</td>\n",
       "    </tr>\n",
       "    <tr>\n",
       "      <th>3</th>\n",
       "      <td>972683275</td>\n",
       "      <td>Item_0972683275</td>\n",
       "      <td>Electronics</td>\n",
       "      <td>319.396318</td>\n",
       "      <td>191.637791</td>\n",
       "      <td>189</td>\n",
       "    </tr>\n",
       "    <tr>\n",
       "      <th>4</th>\n",
       "      <td>1400501466</td>\n",
       "      <td>Item_1400501466</td>\n",
       "      <td>Electronics</td>\n",
       "      <td>120.208388</td>\n",
       "      <td>72.125033</td>\n",
       "      <td>226</td>\n",
       "    </tr>\n",
       "  </tbody>\n",
       "</table>\n",
       "</div>"
      ],
      "text/plain": [
       "      item_id            title     category       price        cost  \\\n",
       "0   528881469  Item_0528881469  Electronics  218.543053  131.125832   \n",
       "1   594451647  Item_0594451647  Electronics  477.821438  286.692863   \n",
       "2   594481813  Item_0594481813  Electronics  379.397274  227.638364   \n",
       "3   972683275  Item_0972683275  Electronics  319.396318  191.637791   \n",
       "4  1400501466  Item_1400501466  Electronics  120.208388   72.125033   \n",
       "\n",
       "   initial_inventory  \n",
       "0                 94  \n",
       "1                420  \n",
       "2                392  \n",
       "3                189  \n",
       "4                226  "
      ]
     },
     "metadata": {},
     "output_type": "display_data"
    }
   ],
   "source": [
    "#preview\n",
    "print(\"events sample:\")\n",
    "display(pd.read_csv(out_events, nrows=5))\n",
    "print(\"catalog sample:\")\n",
    "display(pd.read_csv(out_catalog, nrows=5))\n"
   ]
  },
  {
   "cell_type": "code",
   "execution_count": null,
   "id": "11dbc73c-10f3-4c02-8fba-69a5bc2c835b",
   "metadata": {},
   "outputs": [],
   "source": []
  }
 ],
 "metadata": {
  "kernelspec": {
   "display_name": "Python 3 (ipykernel)",
   "language": "python",
   "name": "python3"
  },
  "language_info": {
   "codemirror_mode": {
    "name": "ipython",
    "version": 3
   },
   "file_extension": ".py",
   "mimetype": "text/x-python",
   "name": "python",
   "nbconvert_exporter": "python",
   "pygments_lexer": "ipython3",
   "version": "3.13.2"
  }
 },
 "nbformat": 4,
 "nbformat_minor": 5
}
